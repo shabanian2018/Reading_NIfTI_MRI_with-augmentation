{
 "cells": [
  {
   "cell_type": "code",
   "execution_count": null,
   "metadata": {},
   "outputs": [],
   "source": [
    "\n",
    "# Reading nii MRI \n",
    "\n",
    "import cv2, os\n",
    "import matplotlib.image as img\n",
    "import nibabel as nb\n",
    "from nibabel.testing import data_path\n",
    "from scipy import ndimage"
   ]
  },
  {
   "cell_type": "code",
   "execution_count": null,
   "metadata": {},
   "outputs": [],
   "source": [
    "DATA_DIR = \"F:/\"  # real dataset on PC\n",
    "interpolation_order = 2\n",
    "\n",
    "#batch_size=16\n",
    "num_classes=3"
   ]
  },
  {
   "cell_type": "code",
   "execution_count": null,
   "metadata": {},
   "outputs": [],
   "source": [
    "\n",
    "# get all nii files from a directory\n",
    "\n",
    "out_shape = (80,80,80)    \n",
    "training_data = []\n",
    "CATEGORIES = [\"Month0\", \"Month12\", \"Month36\"]\n",
    "for category in CATEGORIES:  # do Month0 and Month12 , Month24\n",
    "    class_label = CATEGORIES.index(category)\n",
    "    path = os.path.join(train_dir,category)\n",
    "    print (path)\n",
    "    \n",
    "    nii_files = [x for x in os.listdir(path) if 'nii' in x]\n",
    "   \n",
    "    # read every file\n",
    "    for nii_file in nii_files:\n",
    "        print(os.path.join(path,nii_file))\n",
    "        # read the nii data\n",
    "\n",
    "        nii_data = nb.load(os.path.join(path,nii_file))\n",
    "\n",
    "        # use methods to get information see manual for details (https://nipy.org/nibabel/)\n",
    "        \n",
    "        np_data = nii_data.get_data()\n",
    "        #print (len(np_data))\n",
    "        print('Old shape: ', np_data.shape)\n",
    "        \n",
    "        # resize data using ndimage from scipy (https://docs.scipy.org/doc/scipy/reference/ndimage.html)\n",
    "        original_shape =np_data.shape\n",
    "        assert(len(original_shape) == len(out_shape))\n",
    "\n",
    "        scale = [(out_shape[i] + 0.0)/original_shape[i] for i in range(len(original_shape))]\n",
    "\n",
    "        out_data = ndimage.interpolation.zoom(np_data, scale, order = interpolation_order)\n",
    "\n",
    "        print('New shape: ', out_data.shape)\n",
    "       \n",
    "        augmentation_data=np.rot90(out_data, 2) # 180 degree rotate\n",
    "       \n",
    "        \n",
    "        #print(\"Class label\", class_label)\n",
    "        \n",
    "        training_data.append([out_data, class_label])  # add this to our training_data\n",
    "        training_data.append([augmentation_data, class_label])\n",
    "        \n",
    "        print(\"length of training data: \",len(training_data))\n",
    "        #print(\"Training Data: \", (training_data[1]))\n",
    "        #print()\n",
    "            "
   ]
  }
 ],
 "metadata": {
  "kernelspec": {
   "display_name": "Python 3",
   "language": "python",
   "name": "python3"
  },
  "language_info": {
   "codemirror_mode": {
    "name": "ipython",
    "version": 3
   },
   "file_extension": ".py",
   "mimetype": "text/x-python",
   "name": "python",
   "nbconvert_exporter": "python",
   "pygments_lexer": "ipython3",
   "version": "3.6.5"
  }
 },
 "nbformat": 4,
 "nbformat_minor": 2
}
